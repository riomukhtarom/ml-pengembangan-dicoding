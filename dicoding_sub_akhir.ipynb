{
 "metadata": {
  "language_info": {
   "codemirror_mode": {
    "name": "ipython",
    "version": 3
   },
   "file_extension": ".py",
   "mimetype": "text/x-python",
   "name": "python",
   "nbconvert_exporter": "python",
   "pygments_lexer": "ipython3",
   "version": "3.7.4-final"
  },
  "orig_nbformat": 2,
  "kernelspec": {
   "name": "python37464bite6db8bd4905c4497a23eeb50e5c99a2b",
   "display_name": "Python 3.7.4 64-bit"
  }
 },
 "nbformat": 4,
 "nbformat_minor": 2,
 "cells": [
  {
   "cell_type": "markdown",
   "metadata": {},
   "source": [
    "# BPML - Final Submission\n",
    "Dataset yang digunakan merupakan data penyakit tanaman tomat yang terdiri dari 8 kelas."
   ]
  },
  {
   "cell_type": "markdown",
   "metadata": {
    "tags": []
   },
   "source": [
    "### Menentukan ukuran gambar"
   ]
  },
  {
   "cell_type": "code",
   "execution_count": 2,
   "metadata": {},
   "outputs": [],
   "source": [
    "height = 128\n",
    "width = 128\n",
    "depth = 3"
   ]
  },
  {
   "cell_type": "markdown",
   "metadata": {},
   "source": [
    "### menetukan directory data"
   ]
  },
  {
   "cell_type": "code",
   "execution_count": 3,
   "metadata": {},
   "outputs": [
    {
     "output_type": "execute_result",
     "data": {
      "text/plain": "['Tomato___Bacterial_spot',\n 'Tomato___Early_blight',\n 'Tomato___Late_blight',\n 'Tomato___Leaf_Mold',\n 'Tomato___Septoria_leaf_spot',\n 'Tomato___Spider_mites Two-spotted_spider_mite',\n 'Tomato___Target_Spot',\n 'Tomato___Tomato_Yellow_Leaf_Curl_Virus']"
     },
     "metadata": {},
     "execution_count": 3
    }
   ],
   "source": [
    "import os\n",
    "base_dir = 'tomato-desease'\n",
    "train_dir = os.path.join(base_dir, 'train')\n",
    "test_dir = os.path.join(base_dir, 'test')\n",
    "os.listdir(train_dir)"
   ]
  },
  {
   "cell_type": "markdown",
   "metadata": {},
   "source": [
    "### Membuat image data generator"
   ]
  },
  {
   "cell_type": "code",
   "execution_count": 4,
   "metadata": {},
   "outputs": [],
   "source": [
    "from tensorflow.keras.preprocessing.image import ImageDataGenerator\n",
    "\n",
    "image_datagen = ImageDataGenerator(\n",
    "    rotation_range=25, \n",
    "    width_shift_range=0.1,\n",
    "    height_shift_range=0.1, \n",
    "    shear_range=0.2, \n",
    "    zoom_range=0.2,\n",
    "    horizontal_flip = True,\n",
    "    rescale = 1./255,\n",
    "    fill_mode = 'nearest'\n",
    ")"
   ]
  },
  {
   "cell_type": "code",
   "execution_count": null,
   "metadata": {},
   "outputs": [],
   "source": [
    "### Load data"
   ]
  },
  {
   "cell_type": "code",
   "execution_count": 5,
   "metadata": {
    "tags": []
   },
   "outputs": [
    {
     "output_type": "stream",
     "name": "stdout",
     "text": "Data Training\nFound 10912 images belonging to 8 classes.\nData Testing\nFound 2666 images belonging to 8 classes.\n"
    }
   ],
   "source": [
    "print('Data Training')\n",
    "train_data = image_datagen.flow_from_directory(\n",
    "    train_dir,\n",
    "    target_size = (height,width),\n",
    "    batch_size = 10,\n",
    "    class_mode = 'binary'\n",
    ")\n",
    "\n",
    "print('Data Testing')\n",
    "test_data = image_datagen.flow_from_directory(\n",
    "    test_dir,\n",
    "    target_size = (height,width),\n",
    "    batch_size = 10,\n",
    "    class_mode = 'binary'\n",
    ")"
   ]
  },
  {
   "cell_type": "code",
   "execution_count": null,
   "metadata": {},
   "outputs": [],
   "source": [
    "### Arsitektur Model"
   ]
  },
  {
   "cell_type": "code",
   "execution_count": 13,
   "metadata": {},
   "outputs": [],
   "source": [
    "# from tensorflow.keras.applications.resnet50 import ResNet50\n",
    "from tensorflow.keras.models import Sequential\n",
    "from tensorflow.keras.layers import *\n",
    "\n",
    "# def restnet():\n",
    "#     model_restnet = ResNet50(include_top=False, weights='imagenet', input_shape=(256,256,3))\n",
    "#     output = model_restnet.layers[-1].output\n",
    "#     output = keras.layers.Flatten()(output)\n",
    "#     model_restnet = Model(model_restnet.input, output=output)\n",
    "#     return model_restnet\n",
    "\n",
    "def cnn(input_shape):\n",
    "    name = 'cnn'\n",
    "    model = Sequential(name=name)\n",
    "    model.add(Conv2D(16, (3,3), activation='relu', input_shape=input_shape))\n",
    "    model.add(BatchNormalization())\n",
    "    model.add(MaxPooling2D(2,2))\n",
    "    model.add(Dropout(0.25))\n",
    "    model.add(Conv2D(16, (3,3), activation='relu'))\n",
    "    model.add(BatchNormalization())\n",
    "    model.add(Conv2D(16, (3,3), activation='relu'))\n",
    "    model.add(BatchNormalization())\n",
    "    model.add(MaxPooling2D(2,2))\n",
    "    model.add(Dropout(0.25))\n",
    "    model.add(Conv2D(16, (5,5), activation='relu'))\n",
    "    model.add(BatchNormalization())\n",
    "    model.add(Conv2D(16, (5,5), activation='relu'))\n",
    "    model.add(BatchNormalization())\n",
    "    model.add(MaxPooling2D(2,2))\n",
    "    model.add(Dropout(0.25))\n",
    "    model.add(Flatten())\n",
    "    model.add(Dense(256, activation='relu'))\n",
    "    model.add(Dense(1024, activation='relu'))\n",
    "    model.add(Dense(512, activation='relu'))\n",
    "    model.add(Dense(8, activation='sigmoid'))\n",
    "    return model"
   ]
  },
  {
   "cell_type": "code",
   "execution_count": 14,
   "metadata": {
    "tags": []
   },
   "outputs": [
    {
     "output_type": "stream",
     "name": "stdout",
     "text": "Model: \"cnn\"\n_________________________________________________________________\nLayer (type)                 Output Shape              Param #   \n=================================================================\nconv2d_5 (Conv2D)            (None, 126, 126, 16)      448       \n_________________________________________________________________\nbatch_normalization_5 (Batch (None, 126, 126, 16)      64        \n_________________________________________________________________\nmax_pooling2d_3 (MaxPooling2 (None, 63, 63, 16)        0         \n_________________________________________________________________\ndropout_3 (Dropout)          (None, 63, 63, 16)        0         \n_________________________________________________________________\nconv2d_6 (Conv2D)            (None, 61, 61, 16)        2320      \n_________________________________________________________________\nbatch_normalization_6 (Batch (None, 61, 61, 16)        64        \n_________________________________________________________________\nconv2d_7 (Conv2D)            (None, 59, 59, 16)        2320      \n_________________________________________________________________\nbatch_normalization_7 (Batch (None, 59, 59, 16)        64        \n_________________________________________________________________\nmax_pooling2d_4 (MaxPooling2 (None, 29, 29, 16)        0         \n_________________________________________________________________\ndropout_4 (Dropout)          (None, 29, 29, 16)        0         \n_________________________________________________________________\nconv2d_8 (Conv2D)            (None, 25, 25, 16)        6416      \n_________________________________________________________________\nbatch_normalization_8 (Batch (None, 25, 25, 16)        64        \n_________________________________________________________________\nconv2d_9 (Conv2D)            (None, 21, 21, 16)        6416      \n_________________________________________________________________\nbatch_normalization_9 (Batch (None, 21, 21, 16)        64        \n_________________________________________________________________\nmax_pooling2d_5 (MaxPooling2 (None, 10, 10, 16)        0         \n_________________________________________________________________\ndropout_5 (Dropout)          (None, 10, 10, 16)        0         \n_________________________________________________________________\nflatten_1 (Flatten)          (None, 1600)              0         \n_________________________________________________________________\ndense_4 (Dense)              (None, 256)               409856    \n_________________________________________________________________\ndense_5 (Dense)              (None, 1024)              263168    \n_________________________________________________________________\ndense_6 (Dense)              (None, 512)               524800    \n_________________________________________________________________\ndense_7 (Dense)              (None, 8)                 4104      \n=================================================================\nTotal params: 1,220,168\nTrainable params: 1,220,008\nNon-trainable params: 160\n_________________________________________________________________\n"
    }
   ],
   "source": [
    "input_shape = (height, width, depth)\n",
    "model = cnn(input_shape)\n",
    "model.summary()"
   ]
  },
  {
   "cell_type": "code",
   "execution_count": null,
   "metadata": {},
   "outputs": [],
   "source": [
    "### Compile Model"
   ]
  },
  {
   "cell_type": "code",
   "execution_count": 8,
   "metadata": {},
   "outputs": [],
   "source": [
    "from tensorflow.keras.optimizers import Adam\n",
    "\n",
    "model.compile(\n",
    "    loss= 'sparse_categorical_crossentropy', \n",
    "    optimizer= Adam(lr=1.000e-3, decay=1.000e-3 / 2),\n",
    "    metrics= ['accuracy']\n",
    ")"
   ]
  },
  {
   "cell_type": "code",
   "execution_count": null,
   "metadata": {},
   "outputs": [],
   "source": [
    "### Fitting model"
   ]
  },
  {
   "cell_type": "code",
   "execution_count": 10,
   "metadata": {
    "tags": []
   },
   "outputs": [
    {
     "output_type": "stream",
     "name": "stdout",
     "text": "Train for 100 steps, validate for 10 steps\nEpoch 1/10\n100/100 [==============================] - 49s 489ms/step - loss: 1.5189 - accuracy: 0.4340 - val_loss: 3.1697 - val_accuracy: 0.1500\nEpoch 2/10\n100/100 [==============================] - 48s 483ms/step - loss: 1.4325 - accuracy: 0.4760 - val_loss: 3.6746 - val_accuracy: 0.1900\nEpoch 3/10\n100/100 [==============================] - 51s 509ms/step - loss: 1.3933 - accuracy: 0.4980 - val_loss: 1.8195 - val_accuracy: 0.3500\nEpoch 4/10\n100/100 [==============================] - 49s 488ms/step - loss: 1.2849 - accuracy: 0.5570 - val_loss: 1.6643 - val_accuracy: 0.4600\nEpoch 5/10\n100/100 [==============================] - 56s 559ms/step - loss: 1.2376 - accuracy: 0.5620 - val_loss: 1.1516 - val_accuracy: 0.5500\nEpoch 6/10\n100/100 [==============================] - 48s 479ms/step - loss: 1.2428 - accuracy: 0.5750 - val_loss: 1.6472 - val_accuracy: 0.4600\nEpoch 7/10\n100/100 [==============================] - 46s 456ms/step - loss: 1.2087 - accuracy: 0.5640 - val_loss: 1.1007 - val_accuracy: 0.6200\nEpoch 8/10\n100/100 [==============================] - 54s 542ms/step - loss: 1.1977 - accuracy: 0.5640 - val_loss: 1.2286 - val_accuracy: 0.5800\nEpoch 9/10\n100/100 [==============================] - 45s 450ms/step - loss: 1.1327 - accuracy: 0.6080 - val_loss: 1.1288 - val_accuracy: 0.6100\nEpoch 10/10\n100/100 [==============================] - 51s 507ms/step - loss: 1.1271 - accuracy: 0.5960 - val_loss: 1.4676 - val_accuracy: 0.4600\n"
    }
   ],
   "source": [
    "num_epochs = 10\n",
    "history = model.fit(\n",
    "    train_data,\n",
    "    steps_per_epoch=100,\n",
    "    epochs=num_epochs,\n",
    "    validation_data=test_data,\n",
    "    validation_steps=10,\n",
    "    verbose=1\n",
    ")"
   ]
  },
  {
   "cell_type": "code",
   "execution_count": null,
   "metadata": {},
   "outputs": [],
   "source": [
    "### Plot perubahan akurasi"
   ]
  },
  {
   "cell_type": "code",
   "execution_count": null,
   "metadata": {},
   "outputs": [],
   "source": [
    "import matplotlib.pyplot as plt\n",
    "\n",
    "acc = history.history['accuracy']\n",
    "val_acc = history.history['val_accuracy']\n",
    "epochs = range(1, len(acc) + 1)\n",
    "\n",
    "#Train and validation accuracy\n",
    "plt.plot(epochs, acc, 'blue', label='Training accurarcy')\n",
    "plt.plot(epochs, val_acc, 'black', label='Validation accurarcy')\n",
    "plt.title('Training and Validation accurarcy')\n",
    "plt.legend()\n",
    "plt.show()"
   ]
  },
  {
   "cell_type": "code",
   "execution_count": null,
   "metadata": {},
   "outputs": [],
   "source": [
    "### Menyimpan model dalam format .tflite"
   ]
  },
  {
   "cell_type": "code",
   "execution_count": null,
   "metadata": {},
   "outputs": [],
   "source": [
    "import tensorflow as tf\n",
    "\n",
    "converter = tf.lite.TFLiteConverter.from_keras_model(model)\n",
    "tflite_model = converter.convert()\n",
    "\n",
    "with tf.io.gfile('model.tflite', 'wb') as f:\n",
    "    f.write(tflite_model)"
   ]
  }
 ]
}