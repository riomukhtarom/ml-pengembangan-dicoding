{
 "metadata": {
  "language_info": {
   "codemirror_mode": {
    "name": "ipython",
    "version": 3
   },
   "file_extension": ".py",
   "mimetype": "text/x-python",
   "name": "python",
   "nbconvert_exporter": "python",
   "pygments_lexer": "ipython3",
   "version": "3.7.4-final"
  },
  "orig_nbformat": 2,
  "kernelspec": {
   "name": "python37464bite6db8bd4905c4497a23eeb50e5c99a2b",
   "display_name": "Python 3.7.4 64-bit"
  }
 },
 "nbformat": 4,
 "nbformat_minor": 2,
 "cells": [
  {
   "cell_type": "markdown",
   "metadata": {},
   "source": [
    "# BPML - Submission 2\n",
    "Dataset yang digunakan merupakan data histori harga saham AMAZON dari tahun 2006 hingga tahun 2017. Pada project ini data yang digunakan merupakan harga saham tertinggi pada hari itu."
   ]
  },
  {
   "cell_type": "markdown",
   "metadata": {},
   "source": [
    "### Mengimport dataset menggunakan pandas\n",
    "Dataset diimport kemudian ditampilkan 5 data terakhir"
   ]
  },
  {
   "cell_type": "code",
   "execution_count": 1,
   "metadata": {},
   "outputs": [
    {
     "output_type": "execute_result",
     "data": {
      "text/plain": "               Open     High      Low    Close   Volume  Name\nDate                                                         \n2017-12-22  1172.08  1174.62  1167.83  1168.36  1585054  AMZN\n2017-12-26  1168.36  1178.32  1160.55  1176.76  2005187  AMZN\n2017-12-27  1179.91  1187.29  1175.61  1182.26  1867208  AMZN\n2017-12-28  1189.00  1190.10  1184.38  1186.10  1841676  AMZN\n2017-12-29  1182.35  1184.00  1167.50  1169.47  2688391  AMZN",
      "text/html": "<div>\n<style scoped>\n    .dataframe tbody tr th:only-of-type {\n        vertical-align: middle;\n    }\n\n    .dataframe tbody tr th {\n        vertical-align: top;\n    }\n\n    .dataframe thead th {\n        text-align: right;\n    }\n</style>\n<table border=\"1\" class=\"dataframe\">\n  <thead>\n    <tr style=\"text-align: right;\">\n      <th></th>\n      <th>Open</th>\n      <th>High</th>\n      <th>Low</th>\n      <th>Close</th>\n      <th>Volume</th>\n      <th>Name</th>\n    </tr>\n    <tr>\n      <th>Date</th>\n      <th></th>\n      <th></th>\n      <th></th>\n      <th></th>\n      <th></th>\n      <th></th>\n    </tr>\n  </thead>\n  <tbody>\n    <tr>\n      <th>2017-12-22</th>\n      <td>1172.08</td>\n      <td>1174.62</td>\n      <td>1167.83</td>\n      <td>1168.36</td>\n      <td>1585054</td>\n      <td>AMZN</td>\n    </tr>\n    <tr>\n      <th>2017-12-26</th>\n      <td>1168.36</td>\n      <td>1178.32</td>\n      <td>1160.55</td>\n      <td>1176.76</td>\n      <td>2005187</td>\n      <td>AMZN</td>\n    </tr>\n    <tr>\n      <th>2017-12-27</th>\n      <td>1179.91</td>\n      <td>1187.29</td>\n      <td>1175.61</td>\n      <td>1182.26</td>\n      <td>1867208</td>\n      <td>AMZN</td>\n    </tr>\n    <tr>\n      <th>2017-12-28</th>\n      <td>1189.00</td>\n      <td>1190.10</td>\n      <td>1184.38</td>\n      <td>1186.10</td>\n      <td>1841676</td>\n      <td>AMZN</td>\n    </tr>\n    <tr>\n      <th>2017-12-29</th>\n      <td>1182.35</td>\n      <td>1184.00</td>\n      <td>1167.50</td>\n      <td>1169.47</td>\n      <td>2688391</td>\n      <td>AMZN</td>\n    </tr>\n  </tbody>\n</table>\n</div>"
     },
     "metadata": {},
     "execution_count": 1
    }
   ],
   "source": [
    "import pandas as pd\n",
    "df = pd.read_csv('AMZN_2006-01-01_to_2018-01-01.csv', index_col='Date', parse_dates=['Date'])\n",
    "df.tail()"
   ]
  },
  {
   "cell_type": "markdown",
   "metadata": {},
   "source": [
    "### Menampilkan deskripsi data"
   ]
  },
  {
   "cell_type": "code",
   "execution_count": 2,
   "metadata": {
    "tags": []
   },
   "outputs": [
    {
     "output_type": "execute_result",
     "data": {
      "text/plain": "              Open         High          Low        Close        Volume\ncount  3019.000000  3019.000000  3019.000000  3019.000000  3.019000e+03\nmean    299.335310   302.371163   296.037695   299.376231  5.931712e+06\nstd     280.120547   281.826442   277.927134   279.980161  5.122034e+06\nmin      26.090000    26.300000    25.760000    26.070000  9.864350e+05\n25%      81.175000    82.580000    79.725000    81.090000  3.137037e+06\n50%     205.330000   208.000000   202.100000   205.440000  4.724100e+06\n75%     375.570000   379.155000   373.000000   375.140000  7.135246e+06\nmax    1204.880000  1213.410000  1191.150000  1195.830000  1.044046e+08",
      "text/html": "<div>\n<style scoped>\n    .dataframe tbody tr th:only-of-type {\n        vertical-align: middle;\n    }\n\n    .dataframe tbody tr th {\n        vertical-align: top;\n    }\n\n    .dataframe thead th {\n        text-align: right;\n    }\n</style>\n<table border=\"1\" class=\"dataframe\">\n  <thead>\n    <tr style=\"text-align: right;\">\n      <th></th>\n      <th>Open</th>\n      <th>High</th>\n      <th>Low</th>\n      <th>Close</th>\n      <th>Volume</th>\n    </tr>\n  </thead>\n  <tbody>\n    <tr>\n      <th>count</th>\n      <td>3019.000000</td>\n      <td>3019.000000</td>\n      <td>3019.000000</td>\n      <td>3019.000000</td>\n      <td>3.019000e+03</td>\n    </tr>\n    <tr>\n      <th>mean</th>\n      <td>299.335310</td>\n      <td>302.371163</td>\n      <td>296.037695</td>\n      <td>299.376231</td>\n      <td>5.931712e+06</td>\n    </tr>\n    <tr>\n      <th>std</th>\n      <td>280.120547</td>\n      <td>281.826442</td>\n      <td>277.927134</td>\n      <td>279.980161</td>\n      <td>5.122034e+06</td>\n    </tr>\n    <tr>\n      <th>min</th>\n      <td>26.090000</td>\n      <td>26.300000</td>\n      <td>25.760000</td>\n      <td>26.070000</td>\n      <td>9.864350e+05</td>\n    </tr>\n    <tr>\n      <th>25%</th>\n      <td>81.175000</td>\n      <td>82.580000</td>\n      <td>79.725000</td>\n      <td>81.090000</td>\n      <td>3.137037e+06</td>\n    </tr>\n    <tr>\n      <th>50%</th>\n      <td>205.330000</td>\n      <td>208.000000</td>\n      <td>202.100000</td>\n      <td>205.440000</td>\n      <td>4.724100e+06</td>\n    </tr>\n    <tr>\n      <th>75%</th>\n      <td>375.570000</td>\n      <td>379.155000</td>\n      <td>373.000000</td>\n      <td>375.140000</td>\n      <td>7.135246e+06</td>\n    </tr>\n    <tr>\n      <th>max</th>\n      <td>1204.880000</td>\n      <td>1213.410000</td>\n      <td>1191.150000</td>\n      <td>1195.830000</td>\n      <td>1.044046e+08</td>\n    </tr>\n  </tbody>\n</table>\n</div>"
     },
     "metadata": {},
     "execution_count": 2
    }
   ],
   "source": [
    "df.describe()"
   ]
  },
  {
   "cell_type": "markdown",
   "metadata": {},
   "source": [
    "### Membagi data test dan dat train\n",
    "Data test yang digunakan dari tahun 2006 hingga tahun 2015 (10 tahun). Sedangkan data test yang digunakan dari tahun 2016 hingga tahun 2018 (3 tahun)"
   ]
  },
  {
   "cell_type": "code",
   "execution_count": 5,
   "metadata": {
    "tags": []
   },
   "outputs": [],
   "source": [
    "high = df['High']\n",
    "high_train = df['High']['2006':'2014']\n",
    "high_test = df['High']['2015':'2017']"
   ]
  },
  {
   "cell_type": "code",
   "execution_count": 6,
   "metadata": {},
   "outputs": [
    {
     "output_type": "execute_result",
     "data": {
      "text/plain": "count    3019.000000\nmean      302.371163\nstd       281.826442\nmin        26.300000\n25%        82.580000\n50%       208.000000\n75%       379.155000\nmax      1213.410000\nName: High, dtype: float64"
     },
     "metadata": {},
     "execution_count": 6
    }
   ],
   "source": [
    "high.describe()"
   ]
  },
  {
   "cell_type": "code",
   "execution_count": null,
   "metadata": {},
   "outputs": [],
   "source": [
    "high_train.size , high_test.size"
   ]
  },
  {
   "cell_type": "markdown",
   "metadata": {},
   "source": [
    "### Menampilkan plot perubahan data"
   ]
  },
  {
   "cell_type": "code",
   "execution_count": 5,
   "metadata": {},
   "outputs": [
    {
     "output_type": "display_data",
     "data": {
      "text/plain": "<Figure size 1000x400 with 1 Axes>"
     },
     "metadata": {}
    }
   ],
   "source": [
    "import matplotlib.pyplot as plt\n",
    "high_train.plot(subplots=True, figsize=(10,4))\n",
    "plt.show()"
   ]
  },
  {
   "cell_type": "markdown",
   "metadata": {},
   "source": [
    "### Buat fungsi untuk melakukan windowing"
   ]
  },
  {
   "cell_type": "code",
   "execution_count": 6,
   "metadata": {},
   "outputs": [],
   "source": [
    "import tensorflow as tf\n",
    "def windowed_dataset(series, window_size, batch_size, shuffle_buffer):\n",
    "    series = tf.expand_dims(series, axis=-1)\n",
    "    ds = tf.data.Dataset.from_tensor_slices(series)\n",
    "    ds = ds.window(window_size + 1, shift=1, drop_remainder=True)\n",
    "    ds = ds.flat_map(lambda w: w.batch(window_size + 1))\n",
    "    ds = ds.shuffle(shuffle_buffer)\n",
    "    ds = ds.map(lambda w: (w[:-1], w[1:]))\n",
    "    return ds.batch(batch_size).prefetch(1)"
   ]
  },
  {
   "cell_type": "markdown",
   "metadata": {},
   "source": [
    "### Melakukan windowing"
   ]
  },
  {
   "cell_type": "code",
   "execution_count": 7,
   "metadata": {},
   "outputs": [],
   "source": [
    "train_set = windowed_dataset(high_train, window_size=250, batch_size=100, shuffle_buffer=1000)\n",
    "test_set = windowed_dataset(high_test, window_size=250, batch_size=100, shuffle_buffer=1000)"
   ]
  },
  {
   "cell_type": "markdown",
   "metadata": {},
   "source": [
    "### Arsitektur model"
   ]
  },
  {
   "cell_type": "code",
   "execution_count": 8,
   "metadata": {},
   "outputs": [],
   "source": [
    "from tensorflow.keras.models import Sequential\n",
    "from tensorflow.keras.layers import *\n",
    "\n",
    "ts_model = Sequential()\n",
    "ts_model.add(LSTM(100, return_sequences=True))\n",
    "ts_model.add(LSTM(200))\n",
    "ts_model.add(Dense(100, activation='relu'))\n",
    "ts_model.add(Dense(50, activation='relu'))\n",
    "ts_model.add(Dense(10, activation='relu'))\n",
    "ts_model.add(Dense(1))"
   ]
  },
  {
   "cell_type": "markdown",
   "metadata": {},
   "source": [
    "### Mengompile model"
   ]
  },
  {
   "cell_type": "code",
   "execution_count": 9,
   "metadata": {
    "tags": []
   },
   "outputs": [],
   "source": [
    "from tensorflow.keras.optimizers import SGD\n",
    "from tensorflow.keras.losses import Huber\n",
    "\n",
    "optimizer = SGD(lr=0.9200e-01, momentum=0.9)\n",
    "ts_model.compile(loss=Huber(), optimizer=optimizer, metrics=[\"mae\"])"
   ]
  },
  {
   "cell_type": "markdown",
   "metadata": {},
   "source": [
    "### Melakukan fitting pada model"
   ]
  },
  {
   "cell_type": "code",
   "execution_count": 10,
   "metadata": {
    "tags": []
   },
   "outputs": [
    {
     "output_type": "stream",
     "name": "stdout",
     "text": "WARNING:tensorflow:Layer sequential is casting an input tensor from dtype float64 to the layer's dtype of float32, which is new behavior in TensorFlow 2.  The layer has dtype float32 because it's dtype defaults to floatx.\n\nIf you intended to run this layer in float32, you can safely ignore this warning. If in doubt, this warning is likely only an issue if you are porting a TensorFlow 1.X model to TensorFlow 2.\n\nTo change all layers to have dtype float64 by default, call `tf.keras.backend.set_floatx('float64')`. To change just this layer, pass dtype='float64' to the layer constructor. If you are the author of this layer, you can disable autocasting by passing autocast=False to the base Layer constructor.\n\nEpoch 1/100\n21/21 [==============================] - 7s 344ms/step - loss: 171.0756 - mae: 172.3298\nEpoch 2/100\n21/21 [==============================] - 4s 187ms/step - loss: 141.1651 - mae: 141.9944\nEpoch 3/100\n21/21 [==============================] - 4s 187ms/step - loss: 123.1022 - mae: 123.7816\nEpoch 4/100\n21/21 [==============================] - 4s 184ms/step - loss: 109.0881 - mae: 109.7006\nEpoch 5/100\n21/21 [==============================] - 4s 185ms/step - loss: 98.6273 - mae: 99.2811\nEpoch 6/100\n21/21 [==============================] - 4s 186ms/step - loss: 91.9190 - mae: 92.5462\nEpoch 7/100\n21/21 [==============================] - 4s 185ms/step - loss: 89.2364 - mae: 89.9353\nEpoch 8/100\n21/21 [==============================] - 4s 186ms/step - loss: 88.3551 - mae: 88.7616\nEpoch 9/100\n21/21 [==============================] - 4s 186ms/step - loss: 87.3754 - mae: 88.1209\nEpoch 10/100\n21/21 [==============================] - 4s 189ms/step - loss: 86.9779 - mae: 87.4670\nEpoch 11/100\n21/21 [==============================] - 4s 185ms/step - loss: 86.2028 - mae: 86.9457\nEpoch 12/100\n21/21 [==============================] - 4s 186ms/step - loss: 85.8679 - mae: 86.3368\nEpoch 13/100\n21/21 [==============================] - 4s 185ms/step - loss: 85.2473 - mae: 85.7153\nEpoch 14/100\n21/21 [==============================] - 4s 187ms/step - loss: 84.5224 - mae: 85.1794\nEpoch 15/100\n21/21 [==============================] - 4s 189ms/step - loss: 84.1326 - mae: 84.6640\nEpoch 16/100\n21/21 [==============================] - 4s 191ms/step - loss: 83.5704 - mae: 84.2403\nEpoch 17/100\n21/21 [==============================] - 4s 205ms/step - loss: 83.3596 - mae: 83.9672\nEpoch 18/100\n21/21 [==============================] - 4s 186ms/step - loss: 83.0698 - mae: 83.7594\nEpoch 19/100\n21/21 [==============================] - 4s 188ms/step - loss: 83.0345 - mae: 83.6659\nEpoch 20/100\n21/21 [==============================] - 4s 205ms/step - loss: 83.0601 - mae: 83.5908\nEpoch 21/100\n21/21 [==============================] - 4s 208ms/step - loss: 82.8930 - mae: 83.5909\nEpoch 22/100\n21/21 [==============================] - 4s 203ms/step - loss: 83.0291 - mae: 83.6024\nEpoch 23/100\n21/21 [==============================] - 4s 190ms/step - loss: 83.0654 - mae: 83.5974\nEpoch 24/100\n21/21 [==============================] - 4s 206ms/step - loss: 82.9969 - mae: 83.5590\nEpoch 25/100\n21/21 [==============================] - 4s 188ms/step - loss: 82.8299 - mae: 83.5771\nEpoch 26/100\n21/21 [==============================] - 4s 206ms/step - loss: 83.0468 - mae: 83.5919\nEpoch 27/100\n21/21 [==============================] - 4s 207ms/step - loss: 83.0665 - mae: 83.5908\nEpoch 28/100\n21/21 [==============================] - 4s 207ms/step - loss: 82.8625 - mae: 83.6125\nEpoch 29/100\n21/21 [==============================] - 4s 206ms/step - loss: 82.9546 - mae: 83.6230\nEpoch 30/100\n21/21 [==============================] - 4s 210ms/step - loss: 83.0208 - mae: 83.5949\nEpoch 31/100\n21/21 [==============================] - 4s 205ms/step - loss: 82.8583 - mae: 83.5919\nEpoch 32/100\n21/21 [==============================] - 4s 200ms/step - loss: 83.0941 - mae: 83.6259\nEpoch 33/100\n21/21 [==============================] - 4s 207ms/step - loss: 82.9401 - mae: 83.6247\nEpoch 34/100\n21/21 [==============================] - 4s 203ms/step - loss: 83.2811 - mae: 83.6585\nEpoch 35/100\n21/21 [==============================] - 4s 193ms/step - loss: 83.0328 - mae: 83.6543\nEpoch 36/100\n21/21 [==============================] - 4s 208ms/step - loss: 83.1406 - mae: 83.6216\nEpoch 37/100\n21/21 [==============================] - 4s 206ms/step - loss: 82.9115 - mae: 83.6464\nEpoch 38/100\n21/21 [==============================] - 4s 209ms/step - loss: 83.0337 - mae: 83.6123\nEpoch 39/100\n21/21 [==============================] - 4s 205ms/step - loss: 83.1199 - mae: 83.6319\nEpoch 40/100\n21/21 [==============================] - 4s 205ms/step - loss: 83.0167 - mae: 83.6386\nEpoch 41/100\n21/21 [==============================] - 4s 208ms/step - loss: 83.0919 - mae: 83.6372\nEpoch 42/100\n21/21 [==============================] - 4s 208ms/step - loss: 83.1497 - mae: 83.6356\nEpoch 43/100\n21/21 [==============================] - 4s 208ms/step - loss: 82.8010 - mae: 83.6145\nEpoch 44/100\n21/21 [==============================] - 4s 207ms/step - loss: 83.0848 - mae: 83.6401\nEpoch 45/100\n21/21 [==============================] - 4s 210ms/step - loss: 82.8864 - mae: 83.6412\nEpoch 46/100\n21/21 [==============================] - 4s 206ms/step - loss: 82.9262 - mae: 83.6257\nEpoch 47/100\n21/21 [==============================] - 4s 204ms/step - loss: 82.8594 - mae: 83.6027\nEpoch 48/100\n21/21 [==============================] - 4s 207ms/step - loss: 82.9022 - mae: 83.6243\nEpoch 49/100\n21/21 [==============================] - 4s 206ms/step - loss: 83.0654 - mae: 83.6127\nEpoch 50/100\n21/21 [==============================] - 4s 209ms/step - loss: 83.0468 - mae: 83.6227\nEpoch 51/100\n21/21 [==============================] - 4s 206ms/step - loss: 83.0659 - mae: 83.6476\nEpoch 52/100\n21/21 [==============================] - 4s 209ms/step - loss: 83.0225 - mae: 83.6111\nEpoch 53/100\n21/21 [==============================] - 4s 206ms/step - loss: 82.7563 - mae: 83.6144\nEpoch 54/100\n21/21 [==============================] - 4s 206ms/step - loss: 82.9254 - mae: 83.6261\nEpoch 55/100\n21/21 [==============================] - 4s 206ms/step - loss: 82.9914 - mae: 83.6357\nEpoch 56/100\n21/21 [==============================] - 5s 219ms/step - loss: 82.7724 - mae: 83.6454\nEpoch 57/100\n21/21 [==============================] - 4s 213ms/step - loss: 83.0926 - mae: 83.6177\nEpoch 58/100\n21/21 [==============================] - 4s 210ms/step - loss: 82.9979 - mae: 83.6286\nEpoch 59/100\n21/21 [==============================] - 4s 210ms/step - loss: 82.7897 - mae: 83.6009\nEpoch 60/100\n21/21 [==============================] - 4s 207ms/step - loss: 82.9561 - mae: 83.6240\nEpoch 61/100\n21/21 [==============================] - 4s 208ms/step - loss: 83.0921 - mae: 83.6384\nEpoch 62/100\n21/21 [==============================] - 4s 209ms/step - loss: 82.8756 - mae: 83.6369\nEpoch 63/100\n21/21 [==============================] - 4s 210ms/step - loss: 83.0663 - mae: 83.6465\nEpoch 64/100\n21/21 [==============================] - 5s 235ms/step - loss: 83.0570 - mae: 83.6545\nEpoch 65/100\n21/21 [==============================] - 4s 209ms/step - loss: 83.0727 - mae: 83.6512\nEpoch 66/100\n21/21 [==============================] - 4s 209ms/step - loss: 83.0737 - mae: 83.6208\nEpoch 67/100\n21/21 [==============================] - 4s 213ms/step - loss: 82.9817 - mae: 83.6705\nEpoch 68/100\n21/21 [==============================] - 4s 207ms/step - loss: 83.1658 - mae: 83.6530\nEpoch 69/100\n21/21 [==============================] - 4s 208ms/step - loss: 82.9647 - mae: 83.6529\nEpoch 70/100\n21/21 [==============================] - 4s 208ms/step - loss: 83.0127 - mae: 83.6566\nEpoch 71/100\n21/21 [==============================] - 4s 210ms/step - loss: 83.2045 - mae: 83.6511\nEpoch 72/100\n21/21 [==============================] - 4s 212ms/step - loss: 82.8931 - mae: 83.6608\nEpoch 73/100\n21/21 [==============================] - 4s 210ms/step - loss: 83.1104 - mae: 83.6271\nEpoch 74/100\n21/21 [==============================] - 4s 206ms/step - loss: 83.1494 - mae: 83.6742\nEpoch 75/100\n21/21 [==============================] - 4s 208ms/step - loss: 82.9964 - mae: 83.6327\nEpoch 76/100\n21/21 [==============================] - 4s 208ms/step - loss: 82.6077 - mae: 83.6451\nEpoch 77/100\n21/21 [==============================] - 4s 210ms/step - loss: 82.8982 - mae: 83.6224\nEpoch 78/100\n21/21 [==============================] - 4s 211ms/step - loss: 83.0026 - mae: 83.5904\nEpoch 79/100\n21/21 [==============================] - 4s 213ms/step - loss: 82.8649 - mae: 83.6248\nEpoch 80/100\n21/21 [==============================] - 4s 213ms/step - loss: 83.2811 - mae: 83.6456\nEpoch 81/100\n21/21 [==============================] - 4s 209ms/step - loss: 83.1260 - mae: 83.6718\nEpoch 82/100\n21/21 [==============================] - 4s 207ms/step - loss: 83.0675 - mae: 83.6701\nEpoch 83/100\n21/21 [==============================] - 4s 212ms/step - loss: 83.1194 - mae: 83.6763\nEpoch 84/100\n21/21 [==============================] - 4s 209ms/step - loss: 82.9901 - mae: 83.6468\nEpoch 85/100\n21/21 [==============================] - 4s 213ms/step - loss: 82.7818 - mae: 83.6223\nEpoch 86/100\n21/21 [==============================] - 4s 210ms/step - loss: 83.1130 - mae: 83.6316\nEpoch 87/100\n21/21 [==============================] - 4s 211ms/step - loss: 83.2539 - mae: 83.7290\nEpoch 88/100\n21/21 [==============================] - 4s 209ms/step - loss: 82.9983 - mae: 83.6497\nEpoch 89/100\n21/21 [==============================] - 4s 210ms/step - loss: 82.8503 - mae: 83.6800\nEpoch 90/100\n21/21 [==============================] - 4s 210ms/step - loss: 82.9145 - mae: 83.6325\nEpoch 91/100\n21/21 [==============================] - 4s 212ms/step - loss: 83.0498 - mae: 83.6348\nEpoch 92/100\n21/21 [==============================] - 4s 210ms/step - loss: 83.2599 - mae: 83.6510\nEpoch 93/100\n21/21 [==============================] - 4s 212ms/step - loss: 82.9947 - mae: 83.6466\nEpoch 94/100\n21/21 [==============================] - 4s 210ms/step - loss: 82.9972 - mae: 83.6485\nEpoch 95/100\n21/21 [==============================] - 4s 208ms/step - loss: 82.9386 - mae: 83.6424\nEpoch 96/100\n21/21 [==============================] - 4s 207ms/step - loss: 83.0210 - mae: 83.5951\nEpoch 97/100\n21/21 [==============================] - 4s 206ms/step - loss: 83.1278 - mae: 83.6751\nEpoch 98/100\n21/21 [==============================] - 4s 208ms/step - loss: 82.9114 - mae: 83.6367\nEpoch 99/100\n21/21 [==============================] - 4s 209ms/step - loss: 82.9031 - mae: 83.6026\nEpoch 100/100\n21/21 [==============================] - 5s 220ms/step - loss: 82.6732 - mae: 83.6010\n"
    }
   ],
   "source": [
    "epochs_num = 100\n",
    "ts_history = ts_model.fit(train_set, epochs=epochs_num)"
   ]
  },
  {
   "cell_type": "markdown",
   "metadata": {},
   "source": [
    "### Grafik perubahan mae terhadap jumlah epoch"
   ]
  },
  {
   "cell_type": "code",
   "execution_count": 11,
   "metadata": {},
   "outputs": [
    {
     "output_type": "display_data",
     "data": {
      "text/plain": "<Figure size 432x288 with 1 Axes>",
      "image/png": "[encoded data removed]"
     },
     "metadata": {
      "needs_background": "light"
     }
    }
   ],
   "source": [
    "import matplotlib.pyplot as plt\n",
    "\n",
    "mae = ts_history.history['mae']\n",
    "epochs = range(1, len(mae) + 1)\n",
    "\n",
    "plt.plot(epochs, mae, 'blue', label='mae')\n",
    "plt.title('Training mae')\n",
    "plt.legend()\n",
    "plt.show()"
   ]
  },
  {
   "cell_type": "code",
   "execution_count": null,
   "metadata": {},
   "outputs": [],
   "source": []
  }
 ]
}